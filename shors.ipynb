{
  "nbformat": 4,
  "nbformat_minor": 0,
  "metadata": {
    "colab": {
      "provenance": []
    },
    "kernelspec": {
      "name": "python3",
      "display_name": "Python 3"
    },
    "language_info": {
      "name": "python"
    },
    "accelerator": "TPU",
    "gpuClass": "standard"
  },
  "cells": [
    {
      "cell_type": "code",
      "source": [
        "\"\"\"Install Cirq.\"\"\"\n",
        "try:\n",
        "    import cirq\n",
        "except ImportError:\n",
        "    print(\"installing cirq...\")\n",
        "    !pip install --quiet cirq\n",
        "    print(\"installed cirq.\")\n",
        "\n",
        "\"\"\"Imports for the notebook.\"\"\"\n",
        "import fractions\n",
        "import math\n",
        "import random\n",
        "\n",
        "import numpy as np\n",
        "import sympy\n",
        "from typing import Callable, Iterable, List, Optional, Sequence, Union\n",
        "\n",
        "import cirq"
      ],
      "metadata": {
        "colab": {
          "base_uri": "https://localhost:8080/"
        },
        "id": "RYtDp14LnLRg",
        "outputId": "db5a2701-3b74-4be0-f99f-109af425b63b"
      },
      "execution_count": null,
      "outputs": [
        {
          "output_type": "stream",
          "name": "stdout",
          "text": [
            "installing cirq...\n",
            "\u001b[K     |████████████████████████████████| 594 kB 4.1 MB/s \n",
            "\u001b[K     |████████████████████████████████| 57 kB 4.1 MB/s \n",
            "\u001b[K     |████████████████████████████████| 576 kB 51.6 MB/s \n",
            "\u001b[K     |████████████████████████████████| 1.8 MB 36.8 MB/s \n",
            "\u001b[K     |████████████████████████████████| 66 kB 4.8 MB/s \n",
            "\u001b[K     |████████████████████████████████| 46 kB 2.4 MB/s \n",
            "\u001b[K     |████████████████████████████████| 220 kB 60.6 MB/s \n",
            "\u001b[K     |████████████████████████████████| 1.0 MB 55.8 MB/s \n",
            "\u001b[K     |████████████████████████████████| 142 kB 63.4 MB/s \n",
            "\u001b[K     |████████████████████████████████| 44 kB 2.7 MB/s \n",
            "\u001b[K     |████████████████████████████████| 229 kB 57.3 MB/s \n",
            "\u001b[K     |████████████████████████████████| 65 kB 3.6 MB/s \n",
            "\u001b[K     |████████████████████████████████| 49 kB 6.1 MB/s \n",
            "\u001b[K     |████████████████████████████████| 52 kB 1.5 MB/s \n",
            "\u001b[K     |████████████████████████████████| 53 kB 2.3 MB/s \n",
            "\u001b[K     |████████████████████████████████| 243 kB 52.0 MB/s \n",
            "\u001b[K     |████████████████████████████████| 1.6 MB 60.5 MB/s \n",
            "\u001b[K     |████████████████████████████████| 109 kB 47.2 MB/s \n",
            "\u001b[K     |████████████████████████████████| 546 kB 48.9 MB/s \n",
            "\u001b[?25h  Building wheel for lark (setup.py) ... \u001b[?25l\u001b[?25hdone\n",
            "  Building wheel for retrying (setup.py) ... \u001b[?25l\u001b[?25hdone\n",
            "  Building wheel for rpcq (setup.py) ... \u001b[?25l\u001b[?25hdone\n",
            "\u001b[31mERROR: pip's dependency resolver does not currently take into account all the packages that are installed. This behaviour is the source of the following dependency conflicts.\n",
            "tensorflow 2.8.2+zzzcolab20220719082949 requires protobuf<3.20,>=3.9.2, but you have protobuf 3.20.1 which is incompatible.\n",
            "markdown 3.4.1 requires importlib-metadata>=4.4; python_version < \"3.10\", but you have importlib-metadata 3.10.1 which is incompatible.\n",
            "datascience 0.10.6 requires folium==0.2.1, but you have folium 0.8.3 which is incompatible.\u001b[0m\n",
            "installed cirq.\n"
          ]
        }
      ]
    },
    {
      "cell_type": "code",
      "execution_count": null,
      "metadata": {
        "id": "v3GfJ0POYAra"
      },
      "outputs": [],
      "source": [
        "## Classical computing the order of an element of Z_n.\"\"\"\n",
        "def classical_order_finder(x: int, n: int) -> Optional[int]:\n",
        "\n",
        "    # Make sure x is both valid and in Z_n.\n",
        "    if x < 2 or x >= n or math.gcd(x, n) > 1:\n",
        "        raise ValueError(f\"Invalid x={x} for modulus n={n}.\")\n",
        "\n",
        "    # Determine the order.\n",
        "    r, y = 1, x\n",
        "    while y != 1:\n",
        "        y = (x * y) % n\n",
        "        r += 1\n",
        "    return r"
      ]
    },
    {
      "cell_type": "markdown",
      "source": [
        "## Quantum order finding"
      ],
      "metadata": {
        "id": "R3jGOo6hqcmv"
      }
    },
    {
      "cell_type": "code",
      "execution_count": null,
      "metadata": {
        "id": "4QRBj3-vYArm"
      },
      "outputs": [],
      "source": [
        "class Adder(cirq.ArithmeticGate):\n",
        "    \"\"\"Quantum addition.\"\"\"\n",
        "    def __init__(\n",
        "        self,\n",
        "        target_register: [int, Sequence[int]],\n",
        "        input_register: Union[int, Sequence[int]],\n",
        "    ):\n",
        "        self.target_register = target_register\n",
        "        self.input_register = input_register\n",
        "\n",
        "    def registers(self) -> Sequence[Union[int, Sequence[int]]]:\n",
        "        return self.target_register, self.input_register\n",
        "\n",
        "    def with_registers(\n",
        "        self, *new_registers: Union[int, Sequence[int]]\n",
        "    ) -> 'Adder':\n",
        "        return Adder(*new_registers)\n",
        "\n",
        "    def apply(self, *register_values: int) -> Union[int, Iterable[int]]:\n",
        "        return sum(register_values)\n",
        "    def _circuit_diagram_info_(self, args: cirq.CircuitDiagramInfoArgs):\n",
        "        wire_symbols = [' + ' for _ in range(len(self.input_register)+len(self.target_register))]\n",
        "        return cirq.CircuitDiagramInfo(wire_symbols=tuple(wire_symbols))"
      ]
    },
    {
      "cell_type": "markdown",
      "source": [
        "## Modular exponential arithmetic gate"
      ],
      "metadata": {
        "id": "qcgCwVbbgob1"
      }
    },
    {
      "cell_type": "code",
      "execution_count": null,
      "metadata": {
        "id": "Yt3iyR3uYAr1",
        "colab": {
          "base_uri": "https://localhost:8080/"
        },
        "outputId": "f6c186b9-ca6e-492a-d8b1-b1a6ec5e3290"
      },
      "outputs": [
        {
          "output_type": "stream",
          "name": "stdout",
          "text": [
            "target = [cirq.LineQubit(0), cirq.LineQubit(1), cirq.LineQubit(2), cirq.LineQubit(3), cirq.LineQubit(4), cirq.LineQubit(5)] \n",
            "exponent = [cirq.LineQubit(6), cirq.LineQubit(7), cirq.LineQubit(8), cirq.LineQubit(9), cirq.LineQubit(10), cirq.LineQubit(11), cirq.LineQubit(12), cirq.LineQubit(13), cirq.LineQubit(14), cirq.LineQubit(15), cirq.LineQubit(16), cirq.LineQubit(17), cirq.LineQubit(18), cirq.LineQubit(19), cirq.LineQubit(20)] \n",
            "To factor N = 35 which has L = 6 bits, we need 3L + 3 = 21 qubits.\n"
          ]
        }
      ],
      "source": [
        "class ModularExp(cirq.ArithmeticGate):\n",
        "    def __init__(\n",
        "        self,\n",
        "        target: Sequence[int],\n",
        "        exponent: Union[int, Sequence[int]],\n",
        "        base: int,\n",
        "        modulus: int\n",
        "    ) -> None:\n",
        "        if len(target) < modulus.bit_length():\n",
        "            raise ValueError(\n",
        "                f'Register with {len(target)} qubits is too small for modulus'\n",
        "                f' {modulus}'\n",
        "            )\n",
        "        self.target = target\n",
        "        self.exponent = exponent\n",
        "        self.base = base\n",
        "        self.modulus = modulus\n",
        "\n",
        "    def registers(self) -> Sequence[Union[int, Sequence[int]]]:\n",
        "        return self.target, self.exponent, self.base, self.modulus\n",
        "\n",
        "    def with_registers(\n",
        "        self, *new_registers: Union[int, Sequence[int]]\n",
        "    ) -> 'ModularExp':\n",
        "        \"\"\"Returns a new ModularExp object with new registers.\"\"\"\n",
        "        if len(new_registers) != 4:\n",
        "            raise ValueError(\n",
        "                f'Expected 4 registers (target, exponent, base, '\n",
        "                f'modulus), but got {len(new_registers)}'\n",
        "            )\n",
        "        target, exponent, base, modulus = new_registers\n",
        "        if not isinstance(target, Sequence):\n",
        "            raise ValueError(\n",
        "                f'Target must be a qubit register, got {type(target)}'\n",
        "            )\n",
        "        if not isinstance(base, int):\n",
        "            raise ValueError(\n",
        "                f'Base must be a classical constant, got {type(base)}'\n",
        "            )\n",
        "        if not isinstance(modulus, int):\n",
        "            raise ValueError(\n",
        "              f'Modulus must be a classical constant, got {type(modulus)}'\n",
        "            )\n",
        "        return ModularExp(target, exponent, base, modulus)\n",
        "\n",
        "    def apply(self, *register_values: int) -> int:\n",
        "        assert len(register_values) == 4\n",
        "        target, exponent, base, modulus = register_values\n",
        "        if target >= modulus:\n",
        "            return target\n",
        "        return (target * base**exponent) % modulus\n",
        "\n",
        "    def _circuit_diagram_info_(\n",
        "      self, args: cirq.CircuitDiagramInfoArgs\n",
        "    ) -> cirq.CircuitDiagramInfo:\n",
        "\n",
        "        assert args.known_qubits is not None\n",
        "        wire_symbols = [f't{i}' for i in range(len(self.target))]\n",
        "        e_str = str(self.exponent)\n",
        "        if isinstance(self.exponent, Sequence):\n",
        "            e_str = 'e'\n",
        "            wire_symbols += [f'e{i}' for i in range(len(self.exponent))]\n",
        "        wire_symbols[0] = f'ModularExp(t*{self.base}**{e_str} % {self.modulus})'\n",
        "        return cirq.CircuitDiagramInfo(wire_symbols=tuple(wire_symbols))\n",
        "\n",
        "N = 35\n",
        "L = N.bit_length()\n",
        "target = cirq.LineQubit.range(L)\n",
        "exponent = cirq.LineQubit.range(L, 3 * L + 3)\n",
        "\n",
        "print(f\"target = {target} \")\n",
        "print(f\"exponent = {exponent} \")\n",
        "# Display the total number of qubits to factor this n.\n",
        "print(f\"To factor N = {N} which has L = {L} bits, we need 3L + 3 = {3 * L + 3} qubits.\")"
      ]
    },
    {
      "cell_type": "markdown",
      "source": [
        "## Order finding in Circuit"
      ],
      "metadata": {
        "id": "_4WBkdMzmip7"
      }
    },
    {
      "cell_type": "code",
      "execution_count": null,
      "metadata": {
        "id": "9RPcq0o8YAsD",
        "colab": {
          "base_uri": "https://localhost:8080/"
        },
        "outputId": "91663e32-abbb-48e2-a0c8-ccf18cd2e816"
      },
      "outputs": [
        {
          "output_type": "stream",
          "name": "stdout",
          "text": [
            "0: ────────ModularExp(t*11**e % 377)────────────────────────────\n",
            "           │\n",
            "1: ────────t1───────────────────────────────────────────────────\n",
            "           │\n",
            "2: ────────t2───────────────────────────────────────────────────\n",
            "           │\n",
            "3: ────────t3───────────────────────────────────────────────────\n",
            "           │\n",
            "4: ────────t4───────────────────────────────────────────────────\n",
            "           │\n",
            "5: ────────t5───────────────────────────────────────────────────\n",
            "           │\n",
            "6: ────────t6───────────────────────────────────────────────────\n",
            "           │\n",
            "7: ────────t7───────────────────────────────────────────────────\n",
            "           │\n",
            "8: ────X───t8───────────────────────────────────────────────────\n",
            "           │\n",
            "9: ────H───e0──────────────────────────qft^-1───M('exponent')───\n",
            "           │                           │        │\n",
            "10: ───H───e1──────────────────────────#2───────M───────────────\n",
            "           │                           │        │\n",
            "11: ───H───e2──────────────────────────#3───────M───────────────\n",
            "           │                           │        │\n",
            "12: ───H───e3──────────────────────────#4───────M───────────────\n",
            "           │                           │        │\n",
            "13: ───H───e4──────────────────────────#5───────M───────────────\n",
            "           │                           │        │\n",
            "14: ───H───e5──────────────────────────#6───────M───────────────\n",
            "           │                           │        │\n",
            "15: ───H───e6──────────────────────────#7───────M───────────────\n",
            "           │                           │        │\n",
            "16: ───H───e7──────────────────────────#8───────M───────────────\n",
            "           │                           │        │\n",
            "17: ───H───e8──────────────────────────#9───────M───────────────\n",
            "           │                           │        │\n",
            "18: ───H───e9──────────────────────────#10──────M───────────────\n",
            "           │                           │        │\n",
            "19: ───H───e10─────────────────────────#11──────M───────────────\n",
            "           │                           │        │\n",
            "20: ───H───e11─────────────────────────#12──────M───────────────\n",
            "           │                           │        │\n",
            "21: ───H───e12─────────────────────────#13──────M───────────────\n",
            "           │                           │        │\n",
            "22: ───H───e13─────────────────────────#14──────M───────────────\n",
            "           │                           │        │\n",
            "23: ───H───e14─────────────────────────#15──────M───────────────\n",
            "           │                           │        │\n",
            "24: ───H───e15─────────────────────────#16──────M───────────────\n",
            "           │                           │        │\n",
            "25: ───H───e16─────────────────────────#17──────M───────────────\n",
            "           │                           │        │\n",
            "26: ───H───e17─────────────────────────#18──────M───────────────\n",
            "           │                           │        │\n",
            "27: ───H───e18─────────────────────────#19──────M───────────────\n",
            "           │                           │        │\n",
            "28: ───H───e19─────────────────────────#20──────M───────────────\n",
            "           │                           │        │\n",
            "29: ───H───e20─────────────────────────#21──────M───────────────\n",
            "Raw measurements:\n",
            "exponent=01011100, 00000000, 00000000, 00000000, 00000000, 00000000, 00000000, 00000000, 00000000\n",
            "\n",
            "Integer in exponent register:\n",
            "   exponent\n",
            "0         0\n",
            "1       256\n",
            "2         0\n",
            "3       256\n",
            "4       256\n",
            "5       256\n",
            "6         0\n",
            "7         0\n"
          ]
        }
      ],
      "source": [
        "\"\"\"Function to make the quantum circuit for order finding.\"\"\"\n",
        "def make_order_finding_circuit(x: int, n: int) -> cirq.Circuit:\n",
        "    L = n.bit_length()\n",
        "    target = cirq.LineQubit.range(L)\n",
        "    exponent = cirq.LineQubit.range(L, 3 * L + 3)\n",
        "\n",
        "    # Create a ModularExp gate sized for these registers.\n",
        "    mod_exp = ModularExp([2] * L, [2] * (2 * L + 3), x, n)\n",
        "\n",
        "    return cirq.Circuit(\n",
        "        cirq.X(target[L - 1]),\n",
        "        cirq.H.on_each(*exponent),\n",
        "        mod_exp.on(*target, *exponent),\n",
        "        cirq.qft(*exponent, inverse=True),\n",
        "        cirq.measure(*exponent, key='exponent'),\n",
        "    )\n",
        "\n",
        "n = 377\n",
        "x = 11\n",
        "circuit = make_order_finding_circuit(x, n)\n",
        "print(circuit)\n",
        "\n",
        "circuit = make_order_finding_circuit(x=5, n=6)\n",
        "res = cirq.sample(circuit, repetitions=8)\n",
        "\n",
        "print(\"Raw measurements:\")\n",
        "print(res)\n",
        "\n",
        "print(\"\\nInteger in exponent register:\")\n",
        "print(res.data)\n",
        ""
      ]
    },
    {
      "cell_type": "markdown",
      "source": [
        "## Post process - code in classical way"
      ],
      "metadata": {
        "id": "8UPqbkiFhf4V"
      }
    },
    {
      "cell_type": "code",
      "execution_count": null,
      "metadata": {
        "id": "pKQ59vB6YAsR",
        "colab": {
          "base_uri": "https://localhost:8080/"
        },
        "outputId": "3d361409-96b2-40b7-86a6-1717d8612b85"
      },
      "outputs": [
        {
          "output_type": "stream",
          "name": "stdout",
          "text": [
            "Finding the order of x = 11 modulo n = 377\n",
            "\n",
            "Raw measurements:\n",
            "exponent=0, 0, 0, 0, 0, 0, 0, 0, 0\n",
            "\n",
            "Integer in exponent register:\n",
            "   exponent\n",
            "0         0\n",
            "\n",
            "Order r = None\n"
          ]
        }
      ],
      "source": [
        "def process_measurement(result: cirq.Result, x: int, n: int) -> Optional[int]:\n",
        "    # Read the output integer of the exponent register.\n",
        "    exponent_as_integer = result.data[\"exponent\"][0]\n",
        "    exponent_num_bits = result.measurements[\"exponent\"].shape[1]\n",
        "    eigenphase = float(exponent_as_integer / 2**exponent_num_bits)\n",
        "\n",
        "    # Run the continued fractions algorithm to determine f = s / r.\n",
        "    f = fractions.Fraction.from_float(eigenphase).limit_denominator(n)\n",
        "\n",
        "    # If the numerator is zero, the order finder failed.\n",
        "    if f.numerator == 0:\n",
        "        return None\n",
        "\n",
        "    # Else, return the denominator if it is valid.\n",
        "    r = f.denominator\n",
        "    if x**r % n != 1:\n",
        "        return None\n",
        "    return r\n",
        "\n",
        "print(f\"Finding the order of x = {x} modulo n = {n}\\n\")\n",
        "measurement = cirq.sample(circuit, repetitions=1)\n",
        "print(\"Raw measurements:\")\n",
        "print(measurement)\n",
        "\n",
        "print(\"\\nInteger in exponent register:\")\n",
        "print(measurement.data)\n",
        "\n",
        "r = process_measurement(measurement, x, n)\n",
        "print(\"\\nOrder r =\", r)\n",
        "if r is not None:\n",
        "  print(f\"x^r mod n = {x}^{r} mod {n} = {x**r % n}\")"
      ]
    },
    {
      "cell_type": "markdown",
      "source": [
        "## Quantum Order Finder"
      ],
      "metadata": {
        "id": "1O-fpU67m6Dt"
      }
    },
    {
      "cell_type": "code",
      "execution_count": null,
      "metadata": {
        "id": "Qwo3s-AsYAsZ"
      },
      "outputs": [],
      "source": [
        "def quantum_order_finder(x: int, n: int) -> Optional[int]:\n",
        "    if x < 2 or n <= x or math.gcd(x, n) > 1:\n",
        "        raise ValueError(f'Invalid x={x} for modulus n={n}.')\n",
        "\n",
        "    # Create the order finding circuit.\n",
        "    circuit = make_order_finding_circuit(x, n)\n",
        "    measurement = cirq.sample(circuit)\n",
        "\n",
        "    return process_measurement(measurement, x, n)"
      ]
    },
    {
      "cell_type": "markdown",
      "source": [
        "## The Final Piece\n"
      ],
      "metadata": {
        "id": "3Suf6UbNi6qD"
      }
    },
    {
      "cell_type": "code",
      "execution_count": null,
      "metadata": {
        "id": "XvRmVZRLYAse"
      },
      "outputs": [],
      "source": [
        "from time import process_time\n",
        "\n",
        "\"\"\"Functions for factoring from start to finish.\"\"\"\n",
        "def find_factor_of_prime_power(n: int) -> Optional[int]:\n",
        "    \"\"\"Returns non-trivial factor of n if n is a prime power, else None.\"\"\"\n",
        "    for k in range(2, math.floor(math.log2(n)) + 1):\n",
        "        c = math.pow(n, 1 / k)\n",
        "        c1 = math.floor(c)\n",
        "        if c1**k == n:\n",
        "            return c1\n",
        "        c2 = math.ceil(c)\n",
        "        if c2**k == n:\n",
        "            return c2\n",
        "    return None\n",
        "\n",
        "\n",
        "def find_factor(\n",
        "    n: int,\n",
        "    order_finder: Callable[[int, int], Optional[int]] = quantum_order_finder,\n",
        "    max_attempts: int = 30\n",
        ") -> Optional[int]:\n",
        "    # If the number is prime, there are no non-trivial factors.\n",
        "    if sympy.isprime(n):\n",
        "        print(\"n is prime!\")\n",
        "        return None\n",
        "\n",
        "    # If the number is even, two is a non-trivial factor.\n",
        "    if n % 2 == 0:\n",
        "        return 2\n",
        "\n",
        "    # If n is a prime power, we can find a non-trivial factor efficiently.\n",
        "    c = find_factor_of_prime_power(n)\n",
        "    if c is not None:\n",
        "        return c\n",
        "\n",
        "    for _ in range(max_attempts):\n",
        "        # Choose a random number between 2 and n - 1.\n",
        "        x = random.randint(2, n - 1)\n",
        "\n",
        "        # Most likely x and n will be relatively prime.\n",
        "        c = math.gcd(x, n)\n",
        "\n",
        "        # If x and n are not relatively prime, we got lucky and found\n",
        "        # a non-trivial factor.\n",
        "        if 1 < c < n:\n",
        "            return c\n",
        "\n",
        "        # Compute the order r of x modulo n using the order finder.\n",
        "        r = order_finder(x, n)\n",
        "\n",
        "        # If the order finder failed, try again.\n",
        "        if r is None:\n",
        "            continue\n",
        "\n",
        "        # If the order r is even, try again.\n",
        "        if r % 2 != 0:\n",
        "            continue\n",
        "\n",
        "        # Compute the non-trivial factor.\n",
        "        y = x**(r // 2) % n\n",
        "        assert 1 < y < n\n",
        "        c = math.gcd(y - 1, n)\n",
        "        if 1 < c < n:\n",
        "            return c\n",
        "\n",
        "    print(f\"Failed to find a non-trivial factor in {max_attempts} attempts.\")\n",
        "    return None\n",
        "\n",
        "# Number to factor\n",
        "N = 35\n",
        "\n",
        "# Attempt to find a factor\n",
        "start = process_time()\n",
        "p = find_factor(N)\n",
        "print(\"Elapsted time: \", process_time() - start, \"seconds\")\n",
        "q = N // p\n",
        "print(\"Factoring N = pq =\", N)\n",
        "print(\"p =\", p)\n",
        "print(\"q =\", q)"
      ]
    }
  ]
}